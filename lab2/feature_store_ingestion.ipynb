{
 "cells": [
  {
   "cell_type": "markdown",
   "id": "2e37fb99-2d0b-4b1b-b461-1f616105bf42",
   "metadata": {},
   "source": [
    "# Feature Store Ingestion Using SageMaker Feature Store\n",
    "Amazon SageMaker Feature Store is a fully managed, purpose-built repository to store, share, and manage features for machine learning (ML) models. Features are inputs to ML models used during training and inference. For example, in an application that recommends a music playlist, features could include song ratings, listening duration, and listener demographics. \n",
    "\n",
    "In this notebook, we will create feature groups and use the SageMaker Python SDK to ingest features into feature store.\n",
    "\n",
    "This notebook is the prerequisites for the sagemaker inference pipeline notebook in the same folder. Essentially, we'll be creating some feature stores and ingest user item interaction data into them so that we could run realtime inference against the serial inference pipeline hosted in SageMaker. \n",
    "\n",
    "The dataset used in this notebook is extracted from [movielens](https://movielens.org/), an open source movie data commonly used for training / evaluating movie recommendation systems. "
   ]
  },
  {
   "cell_type": "markdown",
   "id": "72a73f1a-b3d4-4839-a4f1-c7da0a4220ba",
   "metadata": {},
   "source": [
    "First let's define the required dependencies"
   ]
  },
  {
   "cell_type": "code",
   "execution_count": null,
   "id": "45314f27-01b7-4dac-8337-3747774e67b6",
   "metadata": {
    "tags": []
   },
   "outputs": [],
   "source": [
    "import pandas as pd\n",
    "import sagemaker\n",
    "from time import strftime, gmtime\n",
    "from sagemaker.feature_store.feature_group import FeatureGroup\n",
    "from sagemaker.feature_store.inputs import TableFormatEnum\n",
    "import logging\n",
    "from datetime import datetime, timezone, date\n",
    "import time"
   ]
  },
  {
   "cell_type": "code",
   "execution_count": null,
   "id": "c4f777ab-61fc-4934-8984-b59fd3b1f031",
   "metadata": {
    "tags": []
   },
   "outputs": [],
   "source": [
    "logger = logging.getLogger('__name__')\n",
    "logger.setLevel(logging.DEBUG)\n",
    "logger.addHandler(logging.StreamHandler())"
   ]
  },
  {
   "cell_type": "markdown",
   "id": "70a86dd9-6a5d-4bfa-a097-2b5c081fdf7e",
   "metadata": {},
   "source": [
    "For the lab, we'll ingest the data in the `data` folder into the feature store."
   ]
  },
  {
   "cell_type": "code",
   "execution_count": null,
   "id": "5b1741da-af39-4021-a5c6-1d94d4803a0e",
   "metadata": {},
   "outputs": [],
   "source": [
    "%%sh\n",
    "cd data \n",
    "tar -xzvf data.tar.gz"
   ]
  },
  {
   "cell_type": "markdown",
   "id": "e020d175-c150-4afe-ad47-abe7a4354297",
   "metadata": {},
   "source": [
    "Let's examine the dataset to see the columns"
   ]
  },
  {
   "cell_type": "code",
   "execution_count": null,
   "id": "babfd140-a399-4bb1-9f28-7b31acc3ed8e",
   "metadata": {
    "tags": []
   },
   "outputs": [],
   "source": [
    "df = pd.read_csv(\"data/final_title_embeddings.csv\")"
   ]
  },
  {
   "cell_type": "code",
   "execution_count": null,
   "id": "afd34fe7-6e96-41d6-93ac-f104e5ac0151",
   "metadata": {
    "tags": []
   },
   "outputs": [],
   "source": [
    "df.head()"
   ]
  },
  {
   "cell_type": "markdown",
   "id": "113beb38-7cc7-493a-b201-b8e8a0776c59",
   "metadata": {},
   "source": [
    "Feature Store relies on a timestamp and an identity to define individual record. Following is a utility funtion that creates the timestamp for the dataset. "
   ]
  },
  {
   "cell_type": "code",
   "execution_count": null,
   "id": "be064da7-c9bf-48c2-8fd5-4af056b308a9",
   "metadata": {
    "tags": []
   },
   "outputs": [],
   "source": [
    "def generate_event_timestamp():\n",
    "    # naive datetime representing local time\n",
    "    naive_dt = datetime.now()\n",
    "    # take timezone into account\n",
    "    aware_dt = naive_dt.astimezone()\n",
    "    # time in UTC\n",
    "    utc_dt = aware_dt.astimezone(timezone.utc)\n",
    "    # transform to ISO-8601 format\n",
    "    event_time = utc_dt.isoformat(timespec='milliseconds')\n",
    "    event_time = event_time.replace('+00:00', 'Z')\n",
    "    return event_time"
   ]
  },
  {
   "cell_type": "markdown",
   "id": "e768507a-c06e-4716-ba17-02ad007d82c6",
   "metadata": {},
   "source": [
    "Create SageMaker session so we could leverage the SageMaker SDK for feature store operations"
   ]
  },
  {
   "cell_type": "code",
   "execution_count": null,
   "id": "4812741f-7223-41a9-9947-804867448492",
   "metadata": {
    "tags": []
   },
   "outputs": [],
   "source": [
    "sagemaker_session = sagemaker.Session()\n",
    "role = sagemaker.get_execution_role()"
   ]
  },
  {
   "cell_type": "code",
   "execution_count": null,
   "id": "d31ffadc-4749-4eea-9aa8-9bf635ca4014",
   "metadata": {
    "tags": []
   },
   "outputs": [],
   "source": [
    "current_timestamp = strftime('%m-%d-%H-%M', gmtime())"
   ]
  },
  {
   "cell_type": "code",
   "execution_count": null,
   "id": "50d9a6b2-20d8-4961-93f3-5bdc90735f6e",
   "metadata": {
    "tags": []
   },
   "outputs": [],
   "source": [
    "fs_prefix = 'movielens' "
   ]
  },
  {
   "cell_type": "code",
   "execution_count": null,
   "id": "0f1b9494-afe3-448e-9d71-11af4f695d7e",
   "metadata": {
    "tags": []
   },
   "outputs": [],
   "source": [
    "titles_feature_group_name = f'{fs_prefix}-titles-{current_timestamp}'\n",
    "titles_embeddings_mappings_feature_group_name = f'{fs_prefix}-titles-embeddings-mapping-{current_timestamp}'"
   ]
  },
  {
   "cell_type": "markdown",
   "id": "dc7f2726-37e2-4962-bd7d-3edeab764fb1",
   "metadata": {},
   "source": [
    "Create feature group names as followed:\n",
    "\n",
    "1. Titles feature group - Use for store movie titles and embeddings.\n",
    "2. Titles embedding mappings feature group - feature store that maps the original movie id with the newly asisgned index for each movie record. This is used for reversed lookup of the recommended movie based on a given index."
   ]
  },
  {
   "cell_type": "code",
   "execution_count": null,
   "id": "a8848a36-c67b-400b-b8e8-109c85ef13c6",
   "metadata": {
    "tags": []
   },
   "outputs": [],
   "source": [
    "titles_feature_group = FeatureGroup(name=titles_feature_group_name, sagemaker_session=sagemaker_session)\n",
    "titles_embeddings_mappings_feature_group = FeatureGroup(name=titles_embeddings_mappings_feature_group_name, sagemaker_session=sagemaker_session)"
   ]
  },
  {
   "cell_type": "code",
   "execution_count": null,
   "id": "f297d213-34df-4807-b534-9ddb697d4644",
   "metadata": {
    "tags": []
   },
   "outputs": [],
   "source": [
    "event_time = generate_event_timestamp()"
   ]
  },
  {
   "cell_type": "code",
   "execution_count": null,
   "id": "615e42e8-3f2d-415e-8a95-105fe66bb86a",
   "metadata": {
    "tags": []
   },
   "outputs": [],
   "source": [
    "df['event_time'] = event_time"
   ]
  },
  {
   "cell_type": "code",
   "execution_count": null,
   "id": "6642a06c-91c7-443e-bbb2-932f924d9438",
   "metadata": {
    "tags": []
   },
   "outputs": [],
   "source": [
    "fs_titles_df = df.loc[:, ['movieId', 'embeddings', 'event_time']]\n",
    "fs_title_embedding_mapping_df = df.reset_index().loc[:, ['index', 'movieId', 'event_time']]"
   ]
  },
  {
   "cell_type": "code",
   "execution_count": null,
   "id": "364c17b4-ba43-43df-aa15-663de1be2eb9",
   "metadata": {
    "tags": []
   },
   "outputs": [],
   "source": [
    "fs_titles_df['embeddings'] = df['embeddings'].astype(str)"
   ]
  },
  {
   "cell_type": "markdown",
   "id": "2710b3fb-1446-4c7f-a6ec-e95a2ca7be92",
   "metadata": {},
   "source": [
    "We will use the column definitions from the pandas dataframe to define the feature groups. "
   ]
  },
  {
   "cell_type": "code",
   "execution_count": null,
   "id": "4cc2cffa-d539-47d7-85c8-033788353eee",
   "metadata": {
    "tags": []
   },
   "outputs": [],
   "source": [
    "titles_feature_group.load_feature_definitions(data_frame=fs_titles_df)\n",
    "titles_embeddings_mappings_feature_group.load_feature_definitions(data_frame=fs_title_embedding_mapping_df)"
   ]
  },
  {
   "cell_type": "markdown",
   "id": "71a07a33-a947-4cdf-95df-28e3bde5b191",
   "metadata": {},
   "source": [
    "Define the table format "
   ]
  },
  {
   "cell_type": "code",
   "execution_count": null,
   "id": "cb68969e-a3e9-4966-842d-c5fb572b93a9",
   "metadata": {
    "tags": []
   },
   "outputs": [],
   "source": [
    "table_format = TableFormatEnum.GLUE"
   ]
  },
  {
   "cell_type": "code",
   "execution_count": null,
   "id": "e9e099e3-e308-4b8a-bb2b-f168dd223fe9",
   "metadata": {
    "tags": []
   },
   "outputs": [],
   "source": [
    "def wait_for_feature_group_creation_complete(feature_group):\n",
    "    status = feature_group.describe().get('FeatureGroupStatus')\n",
    "    print(f'Initial status: {status}')\n",
    "    while status == 'Creating':\n",
    "        logger.info(f'Waiting for feature group: {feature_group.name} to be created ...')\n",
    "        time.sleep(5)\n",
    "        status = feature_group.describe().get('FeatureGroupStatus')\n",
    "    if status != 'Created':\n",
    "        raise SystemExit(f'Failed to create feature group {feature_group.name}: {status}')\n",
    "    logger.info(f'FeatureGroup {feature_group.name} was successfully created.')"
   ]
  },
  {
   "cell_type": "markdown",
   "id": "b5cfefcb-6737-4b47-abde-a56494e16f0d",
   "metadata": {},
   "source": [
    "Create the feature store group using the SDK"
   ]
  },
  {
   "cell_type": "code",
   "execution_count": null,
   "id": "e2f12915-9ea5-4259-9f98-c248c2499f44",
   "metadata": {
    "tags": []
   },
   "outputs": [],
   "source": [
    "titles_feature_group.create(s3_uri=False, \n",
    "                               record_identifier_name='movieId', \n",
    "                               event_time_feature_name='event_time', \n",
    "                               role_arn=role, \n",
    "                               enable_online_store=True,\n",
    "                               table_format=table_format \n",
    "                              )\n",
    "\n",
    "titles_embeddings_mappings_feature_group.create(s3_uri=False, \n",
    "                               record_identifier_name='index', \n",
    "                               event_time_feature_name='event_time', \n",
    "                               role_arn=role, \n",
    "                               enable_online_store=True,\n",
    "                               table_format=table_format \n",
    "                              )"
   ]
  },
  {
   "cell_type": "markdown",
   "id": "f9f6218a-9ecd-412f-adae-a79c0f9897c1",
   "metadata": {},
   "source": [
    "Wait for the feature store groups completion"
   ]
  },
  {
   "cell_type": "code",
   "execution_count": null,
   "id": "bc3da054-1031-4b7f-9d05-e144cf8fb984",
   "metadata": {
    "tags": []
   },
   "outputs": [],
   "source": [
    "wait_for_feature_group_creation_complete(titles_feature_group)\n",
    "wait_for_feature_group_creation_complete(titles_embeddings_mappings_feature_group)"
   ]
  },
  {
   "cell_type": "markdown",
   "id": "ff05f179-165b-4b71-912d-f0e11a2a063c",
   "metadata": {},
   "source": [
    "After the feature are created successfully, we'll start ingesting the movie and reference mapping dataset to the corresponding feature groups."
   ]
  },
  {
   "cell_type": "code",
   "execution_count": null,
   "id": "015e1483-eb08-474f-a2c2-b68ca4bdf21a",
   "metadata": {
    "tags": []
   },
   "outputs": [],
   "source": [
    "titles_feature_group.ingest(data_frame=fs_titles_df, max_processes=16, wait=True)"
   ]
  },
  {
   "cell_type": "code",
   "execution_count": null,
   "id": "68b8c459-80cd-49c9-9aba-dce7fe572e22",
   "metadata": {
    "tags": []
   },
   "outputs": [],
   "source": [
    "titles_embeddings_mappings_feature_group.ingest(data_frame=fs_title_embedding_mapping_df, max_processes=16, wait=True)"
   ]
  },
  {
   "cell_type": "markdown",
   "id": "dc3c6c7a-f2af-42df-af00-236f4eef17af",
   "metadata": {},
   "source": [
    "# Validate a record from feature store\n",
    "In the following section, we run some integration tests against the feature groups that we just created. \n",
    "This ensures that the feature groups are created successfully and are functioning as expected. We'll use these feature groups in the serial inference pipeline to provide realtime recommendation for the users. "
   ]
  },
  {
   "cell_type": "code",
   "execution_count": null,
   "id": "78efccd7-3ae0-4dc4-b36f-ee5173c9b30c",
   "metadata": {
    "tags": []
   },
   "outputs": [],
   "source": [
    "import boto3"
   ]
  },
  {
   "cell_type": "code",
   "execution_count": null,
   "id": "4e7b0d7a-d19e-44fe-8be4-8759e4f1c3db",
   "metadata": {
    "tags": []
   },
   "outputs": [],
   "source": [
    "featurestore_runtime_client = boto3.client('sagemaker-featurestore-runtime')"
   ]
  },
  {
   "cell_type": "code",
   "execution_count": null,
   "id": "4f2ac58f-14f7-4876-98b2-67171de0fab0",
   "metadata": {
    "tags": []
   },
   "outputs": [],
   "source": [
    "test_movieId = fs_titles_df.sample(n=1)['movieId'].values[0]"
   ]
  },
  {
   "cell_type": "code",
   "execution_count": null,
   "id": "09596152-cda8-44c1-a7ec-28ce978264ea",
   "metadata": {
    "tags": []
   },
   "outputs": [],
   "source": [
    "test_movieId"
   ]
  },
  {
   "cell_type": "markdown",
   "id": "570b5eda-6f65-46c5-9af9-a2a6107b4cba",
   "metadata": {},
   "source": [
    "Runs a query against the feature group using an index"
   ]
  },
  {
   "cell_type": "code",
   "execution_count": null,
   "id": "d4fdf832-3645-414f-b25b-bdbe1f3b004a",
   "metadata": {
    "tags": []
   },
   "outputs": [],
   "source": [
    "title_embedding_feature_record = featurestore_runtime_client.get_record(FeatureGroupName=titles_embeddings_mappings_feature_group_name, \n",
    "                                                        RecordIdentifierValueAsString=str(1076))"
   ]
  },
  {
   "cell_type": "code",
   "execution_count": null,
   "id": "6c437b3e-5a13-4ab0-92dc-f956294520bb",
   "metadata": {
    "tags": []
   },
   "outputs": [],
   "source": [
    "title_embedding_feature_record"
   ]
  },
  {
   "cell_type": "markdown",
   "id": "0aedcac0-239c-4949-8a16-2ca7abb97cb3",
   "metadata": {},
   "source": [
    "Store the feature group names for `sagemaker_inference_pipeline.ipynb`"
   ]
  },
  {
   "cell_type": "code",
   "execution_count": null,
   "id": "ba00ed33-c6e8-45fd-b20f-e9d3d36703fd",
   "metadata": {},
   "outputs": [],
   "source": [
    "%store titles_feature_group_name titles_embeddings_mappings_feature_group_name"
   ]
  },
  {
   "cell_type": "markdown",
   "id": "aa29bc4f-7d57-4a41-b182-5800f0b2d80b",
   "metadata": {},
   "source": [
    "## Conclusion\n",
    "In this notebook, we created 2 feature groups with movielens dataset using SageMaker feature store. \n",
    "We also tested the feature stores to ensure successful ingestion and retrieval. These feature groups are to be used in the next step in providing realtime movie recommendations."
   ]
  },
  {
   "cell_type": "code",
   "execution_count": null,
   "id": "25aa4c32-9cd5-422c-9c36-5d53d0190677",
   "metadata": {},
   "outputs": [],
   "source": []
  }
 ],
 "metadata": {
  "availableInstances": [
   {
    "_defaultOrder": 0,
    "_isFastLaunch": true,
    "category": "General purpose",
    "gpuNum": 0,
    "hideHardwareSpecs": false,
    "memoryGiB": 4,
    "name": "ml.t3.medium",
    "vcpuNum": 2
   },
   {
    "_defaultOrder": 1,
    "_isFastLaunch": false,
    "category": "General purpose",
    "gpuNum": 0,
    "hideHardwareSpecs": false,
    "memoryGiB": 8,
    "name": "ml.t3.large",
    "vcpuNum": 2
   },
   {
    "_defaultOrder": 2,
    "_isFastLaunch": false,
    "category": "General purpose",
    "gpuNum": 0,
    "hideHardwareSpecs": false,
    "memoryGiB": 16,
    "name": "ml.t3.xlarge",
    "vcpuNum": 4
   },
   {
    "_defaultOrder": 3,
    "_isFastLaunch": false,
    "category": "General purpose",
    "gpuNum": 0,
    "hideHardwareSpecs": false,
    "memoryGiB": 32,
    "name": "ml.t3.2xlarge",
    "vcpuNum": 8
   },
   {
    "_defaultOrder": 4,
    "_isFastLaunch": true,
    "category": "General purpose",
    "gpuNum": 0,
    "hideHardwareSpecs": false,
    "memoryGiB": 8,
    "name": "ml.m5.large",
    "vcpuNum": 2
   },
   {
    "_defaultOrder": 5,
    "_isFastLaunch": false,
    "category": "General purpose",
    "gpuNum": 0,
    "hideHardwareSpecs": false,
    "memoryGiB": 16,
    "name": "ml.m5.xlarge",
    "vcpuNum": 4
   },
   {
    "_defaultOrder": 6,
    "_isFastLaunch": false,
    "category": "General purpose",
    "gpuNum": 0,
    "hideHardwareSpecs": false,
    "memoryGiB": 32,
    "name": "ml.m5.2xlarge",
    "vcpuNum": 8
   },
   {
    "_defaultOrder": 7,
    "_isFastLaunch": false,
    "category": "General purpose",
    "gpuNum": 0,
    "hideHardwareSpecs": false,
    "memoryGiB": 64,
    "name": "ml.m5.4xlarge",
    "vcpuNum": 16
   },
   {
    "_defaultOrder": 8,
    "_isFastLaunch": false,
    "category": "General purpose",
    "gpuNum": 0,
    "hideHardwareSpecs": false,
    "memoryGiB": 128,
    "name": "ml.m5.8xlarge",
    "vcpuNum": 32
   },
   {
    "_defaultOrder": 9,
    "_isFastLaunch": false,
    "category": "General purpose",
    "gpuNum": 0,
    "hideHardwareSpecs": false,
    "memoryGiB": 192,
    "name": "ml.m5.12xlarge",
    "vcpuNum": 48
   },
   {
    "_defaultOrder": 10,
    "_isFastLaunch": false,
    "category": "General purpose",
    "gpuNum": 0,
    "hideHardwareSpecs": false,
    "memoryGiB": 256,
    "name": "ml.m5.16xlarge",
    "vcpuNum": 64
   },
   {
    "_defaultOrder": 11,
    "_isFastLaunch": false,
    "category": "General purpose",
    "gpuNum": 0,
    "hideHardwareSpecs": false,
    "memoryGiB": 384,
    "name": "ml.m5.24xlarge",
    "vcpuNum": 96
   },
   {
    "_defaultOrder": 12,
    "_isFastLaunch": false,
    "category": "General purpose",
    "gpuNum": 0,
    "hideHardwareSpecs": false,
    "memoryGiB": 8,
    "name": "ml.m5d.large",
    "vcpuNum": 2
   },
   {
    "_defaultOrder": 13,
    "_isFastLaunch": false,
    "category": "General purpose",
    "gpuNum": 0,
    "hideHardwareSpecs": false,
    "memoryGiB": 16,
    "name": "ml.m5d.xlarge",
    "vcpuNum": 4
   },
   {
    "_defaultOrder": 14,
    "_isFastLaunch": false,
    "category": "General purpose",
    "gpuNum": 0,
    "hideHardwareSpecs": false,
    "memoryGiB": 32,
    "name": "ml.m5d.2xlarge",
    "vcpuNum": 8
   },
   {
    "_defaultOrder": 15,
    "_isFastLaunch": false,
    "category": "General purpose",
    "gpuNum": 0,
    "hideHardwareSpecs": false,
    "memoryGiB": 64,
    "name": "ml.m5d.4xlarge",
    "vcpuNum": 16
   },
   {
    "_defaultOrder": 16,
    "_isFastLaunch": false,
    "category": "General purpose",
    "gpuNum": 0,
    "hideHardwareSpecs": false,
    "memoryGiB": 128,
    "name": "ml.m5d.8xlarge",
    "vcpuNum": 32
   },
   {
    "_defaultOrder": 17,
    "_isFastLaunch": false,
    "category": "General purpose",
    "gpuNum": 0,
    "hideHardwareSpecs": false,
    "memoryGiB": 192,
    "name": "ml.m5d.12xlarge",
    "vcpuNum": 48
   },
   {
    "_defaultOrder": 18,
    "_isFastLaunch": false,
    "category": "General purpose",
    "gpuNum": 0,
    "hideHardwareSpecs": false,
    "memoryGiB": 256,
    "name": "ml.m5d.16xlarge",
    "vcpuNum": 64
   },
   {
    "_defaultOrder": 19,
    "_isFastLaunch": false,
    "category": "General purpose",
    "gpuNum": 0,
    "hideHardwareSpecs": false,
    "memoryGiB": 384,
    "name": "ml.m5d.24xlarge",
    "vcpuNum": 96
   },
   {
    "_defaultOrder": 20,
    "_isFastLaunch": false,
    "category": "General purpose",
    "gpuNum": 0,
    "hideHardwareSpecs": true,
    "memoryGiB": 0,
    "name": "ml.geospatial.interactive",
    "supportedImageNames": [
     "sagemaker-geospatial-v1-0"
    ],
    "vcpuNum": 0
   },
   {
    "_defaultOrder": 21,
    "_isFastLaunch": true,
    "category": "Compute optimized",
    "gpuNum": 0,
    "hideHardwareSpecs": false,
    "memoryGiB": 4,
    "name": "ml.c5.large",
    "vcpuNum": 2
   },
   {
    "_defaultOrder": 22,
    "_isFastLaunch": false,
    "category": "Compute optimized",
    "gpuNum": 0,
    "hideHardwareSpecs": false,
    "memoryGiB": 8,
    "name": "ml.c5.xlarge",
    "vcpuNum": 4
   },
   {
    "_defaultOrder": 23,
    "_isFastLaunch": false,
    "category": "Compute optimized",
    "gpuNum": 0,
    "hideHardwareSpecs": false,
    "memoryGiB": 16,
    "name": "ml.c5.2xlarge",
    "vcpuNum": 8
   },
   {
    "_defaultOrder": 24,
    "_isFastLaunch": false,
    "category": "Compute optimized",
    "gpuNum": 0,
    "hideHardwareSpecs": false,
    "memoryGiB": 32,
    "name": "ml.c5.4xlarge",
    "vcpuNum": 16
   },
   {
    "_defaultOrder": 25,
    "_isFastLaunch": false,
    "category": "Compute optimized",
    "gpuNum": 0,
    "hideHardwareSpecs": false,
    "memoryGiB": 72,
    "name": "ml.c5.9xlarge",
    "vcpuNum": 36
   },
   {
    "_defaultOrder": 26,
    "_isFastLaunch": false,
    "category": "Compute optimized",
    "gpuNum": 0,
    "hideHardwareSpecs": false,
    "memoryGiB": 96,
    "name": "ml.c5.12xlarge",
    "vcpuNum": 48
   },
   {
    "_defaultOrder": 27,
    "_isFastLaunch": false,
    "category": "Compute optimized",
    "gpuNum": 0,
    "hideHardwareSpecs": false,
    "memoryGiB": 144,
    "name": "ml.c5.18xlarge",
    "vcpuNum": 72
   },
   {
    "_defaultOrder": 28,
    "_isFastLaunch": false,
    "category": "Compute optimized",
    "gpuNum": 0,
    "hideHardwareSpecs": false,
    "memoryGiB": 192,
    "name": "ml.c5.24xlarge",
    "vcpuNum": 96
   },
   {
    "_defaultOrder": 29,
    "_isFastLaunch": true,
    "category": "Accelerated computing",
    "gpuNum": 1,
    "hideHardwareSpecs": false,
    "memoryGiB": 16,
    "name": "ml.g4dn.xlarge",
    "vcpuNum": 4
   },
   {
    "_defaultOrder": 30,
    "_isFastLaunch": false,
    "category": "Accelerated computing",
    "gpuNum": 1,
    "hideHardwareSpecs": false,
    "memoryGiB": 32,
    "name": "ml.g4dn.2xlarge",
    "vcpuNum": 8
   },
   {
    "_defaultOrder": 31,
    "_isFastLaunch": false,
    "category": "Accelerated computing",
    "gpuNum": 1,
    "hideHardwareSpecs": false,
    "memoryGiB": 64,
    "name": "ml.g4dn.4xlarge",
    "vcpuNum": 16
   },
   {
    "_defaultOrder": 32,
    "_isFastLaunch": false,
    "category": "Accelerated computing",
    "gpuNum": 1,
    "hideHardwareSpecs": false,
    "memoryGiB": 128,
    "name": "ml.g4dn.8xlarge",
    "vcpuNum": 32
   },
   {
    "_defaultOrder": 33,
    "_isFastLaunch": false,
    "category": "Accelerated computing",
    "gpuNum": 4,
    "hideHardwareSpecs": false,
    "memoryGiB": 192,
    "name": "ml.g4dn.12xlarge",
    "vcpuNum": 48
   },
   {
    "_defaultOrder": 34,
    "_isFastLaunch": false,
    "category": "Accelerated computing",
    "gpuNum": 1,
    "hideHardwareSpecs": false,
    "memoryGiB": 256,
    "name": "ml.g4dn.16xlarge",
    "vcpuNum": 64
   },
   {
    "_defaultOrder": 35,
    "_isFastLaunch": false,
    "category": "Accelerated computing",
    "gpuNum": 1,
    "hideHardwareSpecs": false,
    "memoryGiB": 61,
    "name": "ml.p3.2xlarge",
    "vcpuNum": 8
   },
   {
    "_defaultOrder": 36,
    "_isFastLaunch": false,
    "category": "Accelerated computing",
    "gpuNum": 4,
    "hideHardwareSpecs": false,
    "memoryGiB": 244,
    "name": "ml.p3.8xlarge",
    "vcpuNum": 32
   },
   {
    "_defaultOrder": 37,
    "_isFastLaunch": false,
    "category": "Accelerated computing",
    "gpuNum": 8,
    "hideHardwareSpecs": false,
    "memoryGiB": 488,
    "name": "ml.p3.16xlarge",
    "vcpuNum": 64
   },
   {
    "_defaultOrder": 38,
    "_isFastLaunch": false,
    "category": "Accelerated computing",
    "gpuNum": 8,
    "hideHardwareSpecs": false,
    "memoryGiB": 768,
    "name": "ml.p3dn.24xlarge",
    "vcpuNum": 96
   },
   {
    "_defaultOrder": 39,
    "_isFastLaunch": false,
    "category": "Memory Optimized",
    "gpuNum": 0,
    "hideHardwareSpecs": false,
    "memoryGiB": 16,
    "name": "ml.r5.large",
    "vcpuNum": 2
   },
   {
    "_defaultOrder": 40,
    "_isFastLaunch": false,
    "category": "Memory Optimized",
    "gpuNum": 0,
    "hideHardwareSpecs": false,
    "memoryGiB": 32,
    "name": "ml.r5.xlarge",
    "vcpuNum": 4
   },
   {
    "_defaultOrder": 41,
    "_isFastLaunch": false,
    "category": "Memory Optimized",
    "gpuNum": 0,
    "hideHardwareSpecs": false,
    "memoryGiB": 64,
    "name": "ml.r5.2xlarge",
    "vcpuNum": 8
   },
   {
    "_defaultOrder": 42,
    "_isFastLaunch": false,
    "category": "Memory Optimized",
    "gpuNum": 0,
    "hideHardwareSpecs": false,
    "memoryGiB": 128,
    "name": "ml.r5.4xlarge",
    "vcpuNum": 16
   },
   {
    "_defaultOrder": 43,
    "_isFastLaunch": false,
    "category": "Memory Optimized",
    "gpuNum": 0,
    "hideHardwareSpecs": false,
    "memoryGiB": 256,
    "name": "ml.r5.8xlarge",
    "vcpuNum": 32
   },
   {
    "_defaultOrder": 44,
    "_isFastLaunch": false,
    "category": "Memory Optimized",
    "gpuNum": 0,
    "hideHardwareSpecs": false,
    "memoryGiB": 384,
    "name": "ml.r5.12xlarge",
    "vcpuNum": 48
   },
   {
    "_defaultOrder": 45,
    "_isFastLaunch": false,
    "category": "Memory Optimized",
    "gpuNum": 0,
    "hideHardwareSpecs": false,
    "memoryGiB": 512,
    "name": "ml.r5.16xlarge",
    "vcpuNum": 64
   },
   {
    "_defaultOrder": 46,
    "_isFastLaunch": false,
    "category": "Memory Optimized",
    "gpuNum": 0,
    "hideHardwareSpecs": false,
    "memoryGiB": 768,
    "name": "ml.r5.24xlarge",
    "vcpuNum": 96
   },
   {
    "_defaultOrder": 47,
    "_isFastLaunch": false,
    "category": "Accelerated computing",
    "gpuNum": 1,
    "hideHardwareSpecs": false,
    "memoryGiB": 16,
    "name": "ml.g5.xlarge",
    "vcpuNum": 4
   },
   {
    "_defaultOrder": 48,
    "_isFastLaunch": false,
    "category": "Accelerated computing",
    "gpuNum": 1,
    "hideHardwareSpecs": false,
    "memoryGiB": 32,
    "name": "ml.g5.2xlarge",
    "vcpuNum": 8
   },
   {
    "_defaultOrder": 49,
    "_isFastLaunch": false,
    "category": "Accelerated computing",
    "gpuNum": 1,
    "hideHardwareSpecs": false,
    "memoryGiB": 64,
    "name": "ml.g5.4xlarge",
    "vcpuNum": 16
   },
   {
    "_defaultOrder": 50,
    "_isFastLaunch": false,
    "category": "Accelerated computing",
    "gpuNum": 1,
    "hideHardwareSpecs": false,
    "memoryGiB": 128,
    "name": "ml.g5.8xlarge",
    "vcpuNum": 32
   },
   {
    "_defaultOrder": 51,
    "_isFastLaunch": false,
    "category": "Accelerated computing",
    "gpuNum": 1,
    "hideHardwareSpecs": false,
    "memoryGiB": 256,
    "name": "ml.g5.16xlarge",
    "vcpuNum": 64
   },
   {
    "_defaultOrder": 52,
    "_isFastLaunch": false,
    "category": "Accelerated computing",
    "gpuNum": 4,
    "hideHardwareSpecs": false,
    "memoryGiB": 192,
    "name": "ml.g5.12xlarge",
    "vcpuNum": 48
   },
   {
    "_defaultOrder": 53,
    "_isFastLaunch": false,
    "category": "Accelerated computing",
    "gpuNum": 4,
    "hideHardwareSpecs": false,
    "memoryGiB": 384,
    "name": "ml.g5.24xlarge",
    "vcpuNum": 96
   },
   {
    "_defaultOrder": 54,
    "_isFastLaunch": false,
    "category": "Accelerated computing",
    "gpuNum": 8,
    "hideHardwareSpecs": false,
    "memoryGiB": 768,
    "name": "ml.g5.48xlarge",
    "vcpuNum": 192
   },
   {
    "_defaultOrder": 55,
    "_isFastLaunch": false,
    "category": "Accelerated computing",
    "gpuNum": 8,
    "hideHardwareSpecs": false,
    "memoryGiB": 1152,
    "name": "ml.p4d.24xlarge",
    "vcpuNum": 96
   },
   {
    "_defaultOrder": 56,
    "_isFastLaunch": false,
    "category": "Accelerated computing",
    "gpuNum": 8,
    "hideHardwareSpecs": false,
    "memoryGiB": 1152,
    "name": "ml.p4de.24xlarge",
    "vcpuNum": 96
   }
  ],
  "instance_type": "ml.t3.medium",
  "kernelspec": {
   "display_name": "Python 3 (ipykernel)",
   "language": "python",
   "name": "python3"
  },
  "language_info": {
   "codemirror_mode": {
    "name": "ipython",
    "version": 3
   },
   "file_extension": ".py",
   "mimetype": "text/x-python",
   "name": "python",
   "nbconvert_exporter": "python",
   "pygments_lexer": "ipython3",
   "version": "3.10.13"
  }
 },
 "nbformat": 4,
 "nbformat_minor": 5
}
